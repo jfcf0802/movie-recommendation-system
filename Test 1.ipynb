{
 "cells": [
  {
   "cell_type": "code",
   "execution_count": 1,
   "metadata": {},
   "outputs": [],
   "source": [
    "from copy import deepcopy\n",
    "import pandas as pd\n",
    "import numpy as np\n",
    "from sklearn.metrics.pairwise import cosine_similarity\n",
    "from sklearn.feature_extraction.text import CountVectorizer\n",
    "from sklearn.model_selection import train_test_split"
   ]
  },
  {
   "cell_type": "code",
   "execution_count": 2,
   "metadata": {},
   "outputs": [],
   "source": [
    "# links_df = pd.read_csv('Dataset/links.csv')\n",
    "movies_df = pd.read_csv('Dataset/movies.csv')\n",
    "ratings_df = pd.read_csv('Dataset/ratings.csv')\n",
    "# tags_df = pd.read_csv('Dataset/tags.csv')\n"
   ]
  },
  {
   "cell_type": "code",
   "execution_count": 3,
   "metadata": {},
   "outputs": [],
   "source": [
    "ratings_df = ratings_df.sort_values(by=['userId', 'movieId', 'timestamp'], ascending=[True, True, False])\n",
    "\n",
    "ratings_df = ratings_df.drop_duplicates(subset=['userId', 'movieId'], keep='first')\n",
    "\n",
    "ratings_df = ratings_df.drop(columns=['timestamp'])"
   ]
  },
  {
   "cell_type": "code",
   "execution_count": 4,
   "metadata": {},
   "outputs": [],
   "source": [
    "# tags_df_altered = deepcopy(tags_df)\n",
    "# tags_df_altered['tag'] = tags_df_altered['tag'].str.upper()\n",
    "# tags_df_altered = tags_df_altered.groupby('movieId')['tag'].apply(lambda x: '|'.join(pd.unique(x))).reset_index()\n",
    "# tags_df_altered.columns = ['movieId', 'tags']"
   ]
  },
  {
   "cell_type": "code",
   "execution_count": 5,
   "metadata": {},
   "outputs": [
    {
     "data": {
      "text/html": [
       "<div>\n",
       "<style scoped>\n",
       "    .dataframe tbody tr th:only-of-type {\n",
       "        vertical-align: middle;\n",
       "    }\n",
       "\n",
       "    .dataframe tbody tr th {\n",
       "        vertical-align: top;\n",
       "    }\n",
       "\n",
       "    .dataframe thead th {\n",
       "        text-align: right;\n",
       "    }\n",
       "</style>\n",
       "<table border=\"1\" class=\"dataframe\">\n",
       "  <thead>\n",
       "    <tr style=\"text-align: right;\">\n",
       "      <th></th>\n",
       "      <th>movieId</th>\n",
       "      <th>title</th>\n",
       "      <th>genres</th>\n",
       "    </tr>\n",
       "  </thead>\n",
       "  <tbody>\n",
       "    <tr>\n",
       "      <th>0</th>\n",
       "      <td>1</td>\n",
       "      <td>Toy Story (1995)</td>\n",
       "      <td>Adventure|Animation|Children|Comedy|Fantasy</td>\n",
       "    </tr>\n",
       "    <tr>\n",
       "      <th>1</th>\n",
       "      <td>2</td>\n",
       "      <td>Jumanji (1995)</td>\n",
       "      <td>Adventure|Children|Fantasy</td>\n",
       "    </tr>\n",
       "    <tr>\n",
       "      <th>2</th>\n",
       "      <td>3</td>\n",
       "      <td>Grumpier Old Men (1995)</td>\n",
       "      <td>Comedy|Romance</td>\n",
       "    </tr>\n",
       "    <tr>\n",
       "      <th>3</th>\n",
       "      <td>4</td>\n",
       "      <td>Waiting to Exhale (1995)</td>\n",
       "      <td>Comedy|Drama|Romance</td>\n",
       "    </tr>\n",
       "  </tbody>\n",
       "</table>\n",
       "</div>"
      ],
      "text/plain": [
       "   movieId                     title  \\\n",
       "0        1          Toy Story (1995)   \n",
       "1        2            Jumanji (1995)   \n",
       "2        3   Grumpier Old Men (1995)   \n",
       "3        4  Waiting to Exhale (1995)   \n",
       "\n",
       "                                        genres  \n",
       "0  Adventure|Animation|Children|Comedy|Fantasy  \n",
       "1                   Adventure|Children|Fantasy  \n",
       "2                               Comedy|Romance  \n",
       "3                         Comedy|Drama|Romance  "
      ]
     },
     "execution_count": 5,
     "metadata": {},
     "output_type": "execute_result"
    }
   ],
   "source": [
    "movies_df.head(4)"
   ]
  },
  {
   "cell_type": "code",
   "execution_count": 6,
   "metadata": {},
   "outputs": [
    {
     "data": {
      "text/html": [
       "<div>\n",
       "<style scoped>\n",
       "    .dataframe tbody tr th:only-of-type {\n",
       "        vertical-align: middle;\n",
       "    }\n",
       "\n",
       "    .dataframe tbody tr th {\n",
       "        vertical-align: top;\n",
       "    }\n",
       "\n",
       "    .dataframe thead th {\n",
       "        text-align: right;\n",
       "    }\n",
       "</style>\n",
       "<table border=\"1\" class=\"dataframe\">\n",
       "  <thead>\n",
       "    <tr style=\"text-align: right;\">\n",
       "      <th></th>\n",
       "      <th>userId</th>\n",
       "      <th>movieId</th>\n",
       "      <th>rating</th>\n",
       "    </tr>\n",
       "  </thead>\n",
       "  <tbody>\n",
       "    <tr>\n",
       "      <th>0</th>\n",
       "      <td>1</td>\n",
       "      <td>1</td>\n",
       "      <td>4.0</td>\n",
       "    </tr>\n",
       "    <tr>\n",
       "      <th>1</th>\n",
       "      <td>1</td>\n",
       "      <td>3</td>\n",
       "      <td>4.0</td>\n",
       "    </tr>\n",
       "    <tr>\n",
       "      <th>2</th>\n",
       "      <td>1</td>\n",
       "      <td>6</td>\n",
       "      <td>4.0</td>\n",
       "    </tr>\n",
       "    <tr>\n",
       "      <th>3</th>\n",
       "      <td>1</td>\n",
       "      <td>47</td>\n",
       "      <td>5.0</td>\n",
       "    </tr>\n",
       "  </tbody>\n",
       "</table>\n",
       "</div>"
      ],
      "text/plain": [
       "   userId  movieId  rating\n",
       "0       1        1     4.0\n",
       "1       1        3     4.0\n",
       "2       1        6     4.0\n",
       "3       1       47     5.0"
      ]
     },
     "execution_count": 6,
     "metadata": {},
     "output_type": "execute_result"
    }
   ],
   "source": [
    "ratings_df.head(4)"
   ]
  },
  {
   "cell_type": "code",
   "execution_count": 7,
   "metadata": {},
   "outputs": [
    {
     "data": {
      "text/html": [
       "<div>\n",
       "<style scoped>\n",
       "    .dataframe tbody tr th:only-of-type {\n",
       "        vertical-align: middle;\n",
       "    }\n",
       "\n",
       "    .dataframe tbody tr th {\n",
       "        vertical-align: top;\n",
       "    }\n",
       "\n",
       "    .dataframe thead th {\n",
       "        text-align: right;\n",
       "    }\n",
       "</style>\n",
       "<table border=\"1\" class=\"dataframe\">\n",
       "  <thead>\n",
       "    <tr style=\"text-align: right;\">\n",
       "      <th></th>\n",
       "      <th>userId</th>\n",
       "      <th>movieId</th>\n",
       "      <th>rating</th>\n",
       "      <th>genres</th>\n",
       "    </tr>\n",
       "  </thead>\n",
       "  <tbody>\n",
       "    <tr>\n",
       "      <th>0</th>\n",
       "      <td>1</td>\n",
       "      <td>1</td>\n",
       "      <td>4.0</td>\n",
       "      <td>Adventure|Animation|Children|Comedy|Fantasy</td>\n",
       "    </tr>\n",
       "    <tr>\n",
       "      <th>1</th>\n",
       "      <td>1</td>\n",
       "      <td>3</td>\n",
       "      <td>4.0</td>\n",
       "      <td>Comedy|Romance</td>\n",
       "    </tr>\n",
       "    <tr>\n",
       "      <th>2</th>\n",
       "      <td>1</td>\n",
       "      <td>6</td>\n",
       "      <td>4.0</td>\n",
       "      <td>Action|Crime|Thriller</td>\n",
       "    </tr>\n",
       "    <tr>\n",
       "      <th>3</th>\n",
       "      <td>1</td>\n",
       "      <td>47</td>\n",
       "      <td>5.0</td>\n",
       "      <td>Mystery|Thriller</td>\n",
       "    </tr>\n",
       "  </tbody>\n",
       "</table>\n",
       "</div>"
      ],
      "text/plain": [
       "   userId  movieId  rating                                       genres\n",
       "0       1        1     4.0  Adventure|Animation|Children|Comedy|Fantasy\n",
       "1       1        3     4.0                               Comedy|Romance\n",
       "2       1        6     4.0                        Action|Crime|Thriller\n",
       "3       1       47     5.0                             Mystery|Thriller"
      ]
     },
     "execution_count": 7,
     "metadata": {},
     "output_type": "execute_result"
    }
   ],
   "source": [
    "df_final = ratings_df.merge(movies_df, how=\"inner\", on=\"movieId\")#.merge(tags_df_altered, how=\"inner\", on=\"movieId\")\n",
    "df_final = df_final.drop(columns=['title'])\n",
    "\n",
    "df_final.head(4)"
   ]
  },
  {
   "cell_type": "code",
   "execution_count": 8,
   "metadata": {},
   "outputs": [],
   "source": [
    "# Group by movieId and calculate the mean rating\n",
    "weighted_avg = df_final.groupby('movieId')['rating'].mean().reset_index()\n",
    "\n",
    "# Rename columns for clarity\n",
    "weighted_avg.rename(columns={'rating': 'weighted_average_rating'}, inplace=True)\n",
    "\n",
    "# Filter to include only those with weighted_average_rating >= 3.5\n",
    "weighted_avg = weighted_avg[weighted_avg['weighted_average_rating'] >= 3.5]"
   ]
  },
  {
   "cell_type": "code",
   "execution_count": 9,
   "metadata": {},
   "outputs": [],
   "source": [
    "df = deepcopy(df_final)#.merge(weighted_avg, how=\"inner\", on=\"movieId\")"
   ]
  },
  {
   "cell_type": "code",
   "execution_count": null,
   "metadata": {},
   "outputs": [],
   "source": [
    "# Create a user-item interaction matrix\n",
    "user_item_matrix = df.pivot(index=\"userId\", columns=\"movieId\", values=\"rating\").fillna(0)\n",
    "\n",
    "# Train-test split\n",
    "train_data, test_data = train_test_split(df, test_size=0.3, random_state=42)\n",
    "\n",
    "# Convert train data into a user-item interaction matrix\n",
    "train_matrix = train_data.pivot(index=\"userId\", columns=\"movieId\", values=\"rating\").fillna(0)\n",
    "user_ids = train_matrix.index\n",
    "movie_ids = train_matrix.columns"
   ]
  },
  {
   "cell_type": "code",
   "execution_count": 11,
   "metadata": {},
   "outputs": [],
   "source": [
    "from scipy.sparse.linalg import svds\n",
    "\n",
    "# Matrix factorization using Singular Value Decomposition (SVD)\n",
    "def matrix_factorization(matrix, num_features=10):\n",
    "    U, sigma, Vt = svds(matrix, k=num_features)\n",
    "    sigma = np.diag(sigma)\n",
    "    return U, sigma, Vt\n",
    "\n",
    "# Apply SVD on the train matrix\n",
    "U, sigma, Vt = matrix_factorization(train_matrix.to_numpy())\n",
    "predicted_ratings = np.dot(np.dot(U, sigma), Vt)"
   ]
  },
  {
   "cell_type": "code",
   "execution_count": 12,
   "metadata": {},
   "outputs": [
    {
     "name": "stderr",
     "output_type": "stream",
     "text": [
      "c:\\Users\\joaoc\\AppData\\Local\\Programs\\Python\\Python312\\Lib\\site-packages\\sklearn\\feature_extraction\\text.py:521: UserWarning: The parameter 'token_pattern' will not be used since 'tokenizer' is not None'\n",
      "  warnings.warn(\n"
     ]
    }
   ],
   "source": [
    "from scipy.sparse import csr_matrix\n",
    "\n",
    "# Optimized Genre Similarity Calculation\n",
    "def calculate_genre_similarity(df):\n",
    "    count_vectorizer = CountVectorizer(tokenizer=lambda x: x.split('|'))\n",
    "    genre_matrix = count_vectorizer.fit_transform(df['genres'])\n",
    "    return csr_matrix(genre_matrix)\n",
    "\n",
    "# Calculate sparse genre matrix\n",
    "sparse_genre_matrix = calculate_genre_similarity(df)"
   ]
  },
  {
   "cell_type": "code",
   "execution_count": 13,
   "metadata": {},
   "outputs": [],
   "source": [
    "# Function to calculate similarity for specific rows on-demand\n",
    "def get_genre_similarity(sparse_matrix, target_index):\n",
    "    target_vector = sparse_matrix[target_index]\n",
    "    similarity = cosine_similarity(target_vector, sparse_matrix)\n",
    "    return similarity.flatten()"
   ]
  },
  {
   "cell_type": "code",
   "execution_count": 14,
   "metadata": {},
   "outputs": [],
   "source": [
    "# # Hybrid Recommendation Function\n",
    "# def hybrid_recommend_movies(user_id, df, user_item_matrix, predicted_ratings, sparse_genre_matrix, num_recommendations=5):\n",
    "#     user_idx = np.where(user_ids == user_id)[0][0]\n",
    "\n",
    "#     # Predicted collaborative filtering scores for the user\n",
    "#     predicted_user_ratings = predicted_ratings[user_idx]\n",
    "\n",
    "#     # Get movies the user has already rated\n",
    "#     rated_movies = df[df[\"userId\"] == user_id][\"movieId\"].values\n",
    "\n",
    "#     # Filter out movies the user has already rated\n",
    "#     unrated_movies = [movie for movie in movie_ids if movie not in rated_movies]\n",
    "    \n",
    "#     # Filter out the movies with low average score\n",
    "#     unrated_movies = weighted_avg [weighted_avg ['movieId'].isin(unrated_movies)]['movieId'].tolist()\n",
    "\n",
    "#     recommendations = []\n",
    "#     for movie_id in unrated_movies:\n",
    "#         # Collaborative filtering score\n",
    "#         movie_idx = np.where(movie_ids == movie_id)[0][0]\n",
    "#         predicted_rating = predicted_user_ratings[movie_idx]\n",
    "\n",
    "#         # Content-based score (average similarity with rated movies)\n",
    "#         rated_movie_indices = [df[df[\"movieId\"] == movie].index[0] for movie in rated_movies]\n",
    "#         current_movie_index = df[df[\"movieId\"] == movie_id].index[0]\n",
    "#         genre_similarities = get_genre_similarity(sparse_genre_matrix, current_movie_index)\n",
    "#         content_score = np.mean([genre_similarities[i] for i in rated_movie_indices])\n",
    "\n",
    "#         # Combine scores (weighted hybrid)\n",
    "#         hybrid_score = 0.7 * predicted_rating + 0.3 * content_score\n",
    "#         recommendations.append((movie_id, hybrid_score))\n",
    "\n",
    "#     # Sort by hybrid score\n",
    "#     recommendations = sorted(recommendations, key=lambda x: x[1], reverse=True)\n",
    "\n",
    "#     # Get the top N recommendations\n",
    "#     top_recommendations = recommendations[:num_recommendations]\n",
    "#     return top_recommendations\n",
    "\n",
    "# # Example usage: Recommend movies for user 1\n",
    "# recommendations = hybrid_recommend_movies(1, df, user_item_matrix, predicted_ratings, sparse_genre_matrix)\n",
    "\n",
    "# print(\"Top Recommendations for User 1:\")\n",
    "# for movie_id, hybrid_score in recommendations:\n",
    "#     print(f\"Movie ID: {movie_id}, Hybrid Score: {hybrid_score:.2f}\")"
   ]
  },
  {
   "cell_type": "code",
   "execution_count": 15,
   "metadata": {},
   "outputs": [],
   "source": [
    "# import numpy as np\n",
    "\n",
    "# def hybrid_recommend_movies(user_id, df, user_item_matrix, predicted_ratings, sparse_genre_matrix, num_recommendations=5):\n",
    "#     user_idx = np.where(user_ids == user_id)[0][0]\n",
    "#     predicted_user_ratings = predicted_ratings[user_idx]\n",
    "    \n",
    "#     # Get movie indices\n",
    "#     movie_ids_np = np.array(movie_ids)  # Convert to numpy for faster indexing\n",
    "#     unrated_movies_mask = ~np.isin(movie_ids_np, df[df[\"userId\"] == user_id][\"movieId\"].values)\n",
    "#     unrated_movie_ids = movie_ids_np[unrated_movies_mask]\n",
    "\n",
    "#     # Collaborative filtering score (predicted ratings for unrated movies)\n",
    "#     predicted_ratings_unrated = predicted_user_ratings[np.isin(movie_ids_np, unrated_movie_ids)]\n",
    "\n",
    "#     # Calculate content-based score for all unrated movies\n",
    "#     genre_similarities = np.array([\n",
    "#         get_genre_similarity(sparse_genre_matrix, df[df[\"movieId\"] == movie_id].index[0])\n",
    "#         for movie_id in unrated_movie_ids\n",
    "#     ])\n",
    "    \n",
    "#     # Get genre similarities for all rated movies\n",
    "#     rated_movie_indices = [df[df[\"movieId\"] == movie].index[0] for movie in df[df[\"userId\"] == user_id][\"movieId\"].values]\n",
    "    \n",
    "#     # Compute the average genre similarity for each unrated movie against the rated ones\n",
    "#     content_scores = np.mean(genre_similarities[:, rated_movie_indices], axis=1)\n",
    "    \n",
    "#     # Combine scores (weighted hybrid)\n",
    "#     hybrid_scores = 0.7 * predicted_ratings_unrated + 0.3 * content_scores\n",
    "\n",
    "#     # Combine movie ids and hybrid scores, sort by score, and get top recommendations\n",
    "#     recommendations = list(zip(unrated_movie_ids, hybrid_scores))\n",
    "#     recommendations = sorted(recommendations, key=lambda x: x[1], reverse=True)\n",
    "\n",
    "#     # Return the top N recommendations\n",
    "#     return recommendations[:num_recommendations]\n",
    "\n",
    "# # Example usage: Recommend movies for user 1\n",
    "# recommendations = hybrid_recommend_movies(1, df, user_item_matrix, predicted_ratings, sparse_genre_matrix)\n",
    "# for movie_id, hybrid_score in recommendations:\n",
    "#     print(f\"Movie ID: {movie_id}, Hybrid Score: {hybrid_score:.2f}\")\n"
   ]
  },
  {
   "cell_type": "code",
   "execution_count": null,
   "metadata": {},
   "outputs": [
    {
     "name": "stdout",
     "output_type": "stream",
     "text": [
      "Movie ID: 589, Hybrid Score: 2.34\n",
      "Movie ID: 858, Hybrid Score: 2.02\n",
      "Movie ID: 1200, Hybrid Score: 1.85\n",
      "Movie ID: 318, Hybrid Score: 1.82\n",
      "Movie ID: 1221, Hybrid Score: 1.80\n"
     ]
    }
   ],
   "source": [
    "import numpy as np\n",
    "from scipy.sparse import csr_matrix\n",
    "from sklearn.metrics.pairwise import cosine_similarity\n",
    "from joblib import Parallel, delayed\n",
    "\n",
    "def hybrid_recommend_movies(user_id, df, predicted_ratings, sparse_genre_matrix, num_recommendations=5, n_jobs=-1):\n",
    "    # Identify the user index in the matrix\n",
    "    user_idx = np.where(user_ids == user_id)[0][0]\n",
    "    predicted_user_ratings = predicted_ratings[user_idx]\n",
    "    \n",
    "    # Get movie indices (converted to numpy arrays for faster indexing)\n",
    "    movie_ids_np = np.array(movie_ids)\n",
    "    rated_movies = df[df[\"userId\"] == user_id][\"movieId\"].values\n",
    "    unrated_movies_mask = ~np.isin(movie_ids_np, rated_movies)\n",
    "    unrated_movie_ids = movie_ids_np[unrated_movies_mask]\n",
    "    \n",
    "    # Collaborative filtering scores for unrated movies\n",
    "    predicted_ratings_unrated = predicted_user_ratings[np.isin(movie_ids_np, unrated_movie_ids)]\n",
    "\n",
    "    # Calculate content-based genre similarities for unrated movies in parallel\n",
    "    genre_similarities = Parallel(n_jobs=n_jobs)(\n",
    "        delayed(get_genre_similarity)(sparse_genre_matrix, df[df[\"movieId\"] == movie_id].index[0]) for movie_id in unrated_movie_ids\n",
    "    )\n",
    "    \n",
    "    # Convert the list of similarities into a numpy array\n",
    "    genre_similarities = np.array(genre_similarities)\n",
    "    \n",
    "    # Get the indices of rated movies\n",
    "    rated_movie_indices = [df[df[\"movieId\"] == movie].index[0] for movie in rated_movies]\n",
    "\n",
    "    # Compute the average genre similarity for each unrated movie against the rated movies\n",
    "    content_scores = np.mean(genre_similarities[:, rated_movie_indices], axis=1)\n",
    "\n",
    "    # Combine collaborative and content-based scores (weighted hybrid)\n",
    "    hybrid_scores = 0.5 * predicted_ratings_unrated + 0.5 * content_scores\n",
    "\n",
    "    # Combine movie ids and hybrid scores, sort by score, and get the top recommendations\n",
    "    recommendations = list(zip(unrated_movie_ids, hybrid_scores))\n",
    "    recommendations = sorted(recommendations, key=lambda x: x[1], reverse=True)\n",
    "\n",
    "    # Return the top N recommendations\n",
    "    return recommendations[:num_recommendations]\n",
    "\n",
    "# Example usage: Recommend movies for user 1\n",
    "recommendations = hybrid_recommend_movies(1, df, predicted_ratings, sparse_genre_matrix)\n",
    "for movie_id, hybrid_score in recommendations:\n",
    "    print(f\"Movie ID: {movie_id}, Hybrid Score: {hybrid_score:.2f}\")\n"
   ]
  }
 ],
 "metadata": {
  "kernelspec": {
   "display_name": "Python 3",
   "language": "python",
   "name": "python3"
  },
  "language_info": {
   "codemirror_mode": {
    "name": "ipython",
    "version": 3
   },
   "file_extension": ".py",
   "mimetype": "text/x-python",
   "name": "python",
   "nbconvert_exporter": "python",
   "pygments_lexer": "ipython3",
   "version": "3.12.7"
  }
 },
 "nbformat": 4,
 "nbformat_minor": 2
}
