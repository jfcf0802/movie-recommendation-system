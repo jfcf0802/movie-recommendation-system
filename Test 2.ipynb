{
 "cells": [
  {
   "cell_type": "code",
   "execution_count": 1,
   "metadata": {},
   "outputs": [
    {
     "name": "stderr",
     "output_type": "stream",
     "text": [
      "c:\\Users\\joaoc\\AppData\\Local\\Programs\\Python\\Python312\\Lib\\site-packages\\tqdm\\auto.py:21: TqdmWarning: IProgress not found. Please update jupyter and ipywidgets. See https://ipywidgets.readthedocs.io/en/stable/user_install.html\n",
      "  from .autonotebook import tqdm as notebook_tqdm\n"
     ]
    }
   ],
   "source": [
    "from copy import deepcopy\n",
    "import pandas as pd\n",
    "import numpy as np\n",
    "\n",
    "from implicit.als import AlternatingLeastSquares\n",
    "from scipy.sparse import csr_matrix\n",
    "from sklearn.feature_extraction.text import CountVectorizer\n",
    "from sklearn.metrics.pairwise import cosine_similarity\n",
    "from joblib import Parallel, delayed"
   ]
  },
  {
   "cell_type": "code",
   "execution_count": 2,
   "metadata": {},
   "outputs": [],
   "source": [
    "# links_df = pd.read_csv('Dataset/links.csv')\n",
    "movies_df = pd.read_csv('Dataset/movies.csv')\n",
    "ratings_df = pd.read_csv('Dataset/ratings.csv')\n",
    "# tags_df = pd.read_csv('Dataset/tags.csv')\n"
   ]
  },
  {
   "cell_type": "code",
   "execution_count": 3,
   "metadata": {},
   "outputs": [],
   "source": [
    "ratings_df = ratings_df.sort_values(by=['userId', 'movieId', 'timestamp'], ascending=[True, True, False])\n",
    "\n",
    "ratings_df = ratings_df.drop_duplicates(subset=['userId', 'movieId'], keep='first')\n",
    "\n",
    "ratings_df = ratings_df.drop(columns=['timestamp'])"
   ]
  },
  {
   "cell_type": "code",
   "execution_count": 4,
   "metadata": {},
   "outputs": [
    {
     "data": {
      "text/html": [
       "<div>\n",
       "<style scoped>\n",
       "    .dataframe tbody tr th:only-of-type {\n",
       "        vertical-align: middle;\n",
       "    }\n",
       "\n",
       "    .dataframe tbody tr th {\n",
       "        vertical-align: top;\n",
       "    }\n",
       "\n",
       "    .dataframe thead th {\n",
       "        text-align: right;\n",
       "    }\n",
       "</style>\n",
       "<table border=\"1\" class=\"dataframe\">\n",
       "  <thead>\n",
       "    <tr style=\"text-align: right;\">\n",
       "      <th></th>\n",
       "      <th>userId</th>\n",
       "      <th>movieId</th>\n",
       "      <th>rating</th>\n",
       "      <th>genres</th>\n",
       "    </tr>\n",
       "  </thead>\n",
       "  <tbody>\n",
       "    <tr>\n",
       "      <th>0</th>\n",
       "      <td>1</td>\n",
       "      <td>1</td>\n",
       "      <td>4.0</td>\n",
       "      <td>Adventure|Animation|Children|Comedy|Fantasy</td>\n",
       "    </tr>\n",
       "    <tr>\n",
       "      <th>1</th>\n",
       "      <td>1</td>\n",
       "      <td>3</td>\n",
       "      <td>4.0</td>\n",
       "      <td>Comedy|Romance</td>\n",
       "    </tr>\n",
       "    <tr>\n",
       "      <th>2</th>\n",
       "      <td>1</td>\n",
       "      <td>6</td>\n",
       "      <td>4.0</td>\n",
       "      <td>Action|Crime|Thriller</td>\n",
       "    </tr>\n",
       "    <tr>\n",
       "      <th>3</th>\n",
       "      <td>1</td>\n",
       "      <td>47</td>\n",
       "      <td>5.0</td>\n",
       "      <td>Mystery|Thriller</td>\n",
       "    </tr>\n",
       "  </tbody>\n",
       "</table>\n",
       "</div>"
      ],
      "text/plain": [
       "   userId  movieId  rating                                       genres\n",
       "0       1        1     4.0  Adventure|Animation|Children|Comedy|Fantasy\n",
       "1       1        3     4.0                               Comedy|Romance\n",
       "2       1        6     4.0                        Action|Crime|Thriller\n",
       "3       1       47     5.0                             Mystery|Thriller"
      ]
     },
     "execution_count": 4,
     "metadata": {},
     "output_type": "execute_result"
    }
   ],
   "source": [
    "df_final = ratings_df.merge(movies_df, how=\"inner\", on=\"movieId\")#.merge(tags_df_altered, how=\"inner\", on=\"movieId\")\n",
    "df_final = df_final.drop(columns=['title'])\n",
    "\n",
    "df_final.head(4)"
   ]
  },
  {
   "cell_type": "code",
   "execution_count": 5,
   "metadata": {},
   "outputs": [],
   "source": [
    "df = deepcopy(df_final)#.merge(weighted_avg, how=\"inner\", on=\"movieId\")"
   ]
  },
  {
   "cell_type": "code",
   "execution_count": 6,
   "metadata": {},
   "outputs": [],
   "source": [
    "# import numpy as np\n",
    "# import pandas as pd\n",
    "# from scipy.sparse import csr_matrix\n",
    "# from sklearn.feature_extraction.text import TfidfVectorizer\n",
    "# from sklearn.metrics.pairwise import cosine_similarity\n",
    "# from implicit.als import AlternatingLeastSquares\n",
    "\n",
    "# class HybridMovieRecommender:\n",
    "#     def __init__(self, ratings_df):\n",
    "#         # Preprocess ratings data\n",
    "#         self.ratings_df = ratings_df\n",
    "        \n",
    "#         # Prepare collaborative filtering components\n",
    "#         self.user_encoder = {user: idx for idx, user in enumerate(ratings_df['userId'].unique())}\n",
    "#         self.movie_encoder = {movie: idx for idx, movie in enumerate(ratings_df['movieId'].unique())}\n",
    "#         self.user_decoder = {idx: user for user, idx in self.user_encoder.items()}\n",
    "#         self.movie_decoder = {idx: movie for movie, idx in self.movie_encoder.items()}\n",
    "        \n",
    "#         # Create sparse rating matrix for ALS\n",
    "#         user_ids = [self.user_encoder[uid] for uid in ratings_df['userId']]\n",
    "#         movie_ids = [self.movie_encoder[mid] for mid in ratings_df['movieId']]\n",
    "#         ratings = ratings_df['rating'].values\n",
    "        \n",
    "#         self.ratings_matrix = csr_matrix((ratings, (user_ids, movie_ids)))\n",
    "        \n",
    "#         # Prepare content-based filtering components\n",
    "#         self.tfidf = TfidfVectorizer(token_pattern=r'\\b\\w+\\b')\n",
    "#         self.genre_matrix = self.tfidf.fit_transform(ratings_df['genres'].unique())\n",
    "        \n",
    "#         # Train ALS model\n",
    "#         self.als_model = AlternatingLeastSquares(factors=50, regularization=0.01)\n",
    "#         self.als_model.fit(self.ratings_matrix)\n",
    "    \n",
    "#     def get_content_based_recommendations(self, movie_id, n_recommendations=5):\n",
    "#         # Find similar movies based on genre\n",
    "#         movie_index = np.where(self.ratings_df['movieId'] == movie_id)[0][0]\n",
    "#         movie_genres = self.tfidf.transform([self.ratings_df.loc[movie_index, 'genres']])\n",
    "        \n",
    "#         genre_similarities = cosine_similarity(movie_genres, self.genre_matrix)[0]\n",
    "#         similar_genre_indices = genre_similarities.argsort()[::-1][1:n_recommendations+1]\n",
    "        \n",
    "#         return self.ratings_df.iloc[similar_genre_indices]['movieId'].tolist()\n",
    "    \n",
    "#     def get_collaborative_recommendations(self, user_id, n_recommendations=5):\n",
    "#         # Get ALS recommendations\n",
    "#         user_index = self.user_encoder[user_id]\n",
    "#         recommended_indices, _ = self.als_model.recommend(user_index, self.ratings_matrix[user_index], N=n_recommendations)\n",
    "        \n",
    "#         return [self.movie_decoder[idx] for idx in recommended_indices]\n",
    "    \n",
    "#     def get_hybrid_recommendations(self, user_id, movie_id, n_recommendations=5):\n",
    "#         # Combine collaborative and content-based recommendations\n",
    "#         collab_recs = self.get_collaborative_recommendations(user_id, n_recommendations)\n",
    "#         content_recs = self.get_content_based_recommendations(movie_id, n_recommendations)\n",
    "        \n",
    "#         # Merge and deduplicate recommendations\n",
    "#         hybrid_recs = list(dict.fromkeys(collab_recs + content_recs))\n",
    "        \n",
    "#         return hybrid_recs[:n_recommendations]\n",
    "\n",
    "# # Example usage\n",
    "# def main():\n",
    "#     ratings_df = deepcopy(df)\n",
    "    \n",
    "#     # Initialize recommender\n",
    "#     recommender = HybridMovieRecommender(ratings_df)\n",
    "    \n",
    "#     # Get recommendations\n",
    "#     user_id = 1\n",
    "#     movie_id = 1\n",
    "#     hybrid_recommendations = recommender.get_hybrid_recommendations(user_id, movie_id)\n",
    "#     print(f\"Hybrid Recommendations for User {user_id} based on Movie {movie_id}: {hybrid_recommendations}\")\n",
    "\n",
    "# if __name__ == \"__main__\":\n",
    "#     main()"
   ]
  },
  {
   "cell_type": "code",
   "execution_count": 7,
   "metadata": {},
   "outputs": [
    {
     "name": "stderr",
     "output_type": "stream",
     "text": [
      "c:\\Users\\joaoc\\AppData\\Local\\Programs\\Python\\Python312\\Lib\\site-packages\\implicit\\cpu\\als.py:95: RuntimeWarning: OpenBLAS is configured to use 16 threads. It is highly recommended to disable its internal threadpool by setting the environment variable 'OPENBLAS_NUM_THREADS=1' or by calling 'threadpoolctl.threadpool_limits(1, \"blas\")'. Having OpenBLAS use a threadpool can lead to severe performance issues here.\n",
      "  check_blas_config()\n",
      "100%|██████████| 15/15 [00:00<00:00, 49.90it/s]"
     ]
    },
    {
     "name": "stdout",
     "output_type": "stream",
     "text": [
      "Global Recommendations for User 1: [1036, 2804, 377]\n"
     ]
    },
    {
     "name": "stderr",
     "output_type": "stream",
     "text": [
      "\n"
     ]
    }
   ],
   "source": [
    "import numpy as np\n",
    "import pandas as pd\n",
    "from scipy.sparse import csr_matrix\n",
    "from sklearn.feature_extraction.text import TfidfVectorizer\n",
    "from sklearn.metrics.pairwise import cosine_similarity\n",
    "from implicit.als import AlternatingLeastSquares\n",
    "\n",
    "class ComprehensiveMovieRecommender:\n",
    "    def __init__(self, ratings_df):\n",
    "        # Preprocess ratings data\n",
    "        self.ratings_df = ratings_df\n",
    "        \n",
    "        # Prepare collaborative filtering components\n",
    "        self.user_encoder = {user: idx for idx, user in enumerate(ratings_df['userId'].unique())}\n",
    "        self.movie_encoder = {movie: idx for idx, movie in enumerate(ratings_df['movieId'].unique())}\n",
    "        self.user_decoder = {idx: user for user, idx in self.user_encoder.items()}\n",
    "        self.movie_decoder = {idx: movie for movie, idx in self.movie_encoder.items()}\n",
    "        \n",
    "        # Create sparse rating matrix for ALS\n",
    "        user_ids = [self.user_encoder[uid] for uid in ratings_df['userId']]\n",
    "        movie_ids = [self.movie_encoder[mid] for mid in ratings_df['movieId']]\n",
    "        ratings = ratings_df['rating'].values\n",
    "        \n",
    "        self.ratings_matrix = csr_matrix((ratings, (user_ids, movie_ids)))\n",
    "        \n",
    "        # Prepare content-based filtering components\n",
    "        self.tfidf = TfidfVectorizer(token_pattern=r'\\b\\w+\\b')\n",
    "        self.genre_matrix = self.tfidf.fit_transform(ratings_df['genres'].unique())\n",
    "        \n",
    "        # Train ALS model\n",
    "        self.als_model = AlternatingLeastSquares(factors=50, regularization=0.01)\n",
    "        self.als_model.fit(self.ratings_matrix)\n",
    "    \n",
    "    def get_content_based_recommendations(self, n_recommendations=3):\n",
    "        # Generate global content-based recommendations\n",
    "        genre_similarities = cosine_similarity(self.genre_matrix)\n",
    "        avg_genre_similarity = genre_similarities.mean(axis=1)\n",
    "        top_genre_indices = avg_genre_similarity.argsort()[::-1][:n_recommendations]\n",
    "        \n",
    "        return self.ratings_df.iloc[top_genre_indices]['movieId'].tolist()\n",
    "    \n",
    "    def get_collaborative_recommendations(self, user_id, n_recommendations=3):\n",
    "        # Get ALS recommendations for a specific user\n",
    "        user_index = self.user_encoder[user_id]\n",
    "        recommended_indices, _ = self.als_model.recommend(user_index, self.ratings_matrix[user_index], N=n_recommendations)\n",
    "        \n",
    "        return [self.movie_decoder[idx] for idx in recommended_indices]\n",
    "    \n",
    "    def get_global_hybrid_recommendations(self, user_id, n_recommendations=3):\n",
    "        # Combine global collaborative and content-based recommendations\n",
    "        collab_recs = self.get_collaborative_recommendations(user_id, n_recommendations)\n",
    "        content_recs = self.get_content_based_recommendations(n_recommendations)\n",
    "        \n",
    "        # Merge and deduplicate recommendations\n",
    "        hybrid_recs = list(dict.fromkeys(collab_recs + content_recs))\n",
    "        \n",
    "        return hybrid_recs[:n_recommendations]\n",
    "\n",
    "# Example usage\n",
    "def main():\n",
    "    ratings_df = deepcopy(df)\n",
    "    \n",
    "    # Initialize recommender\n",
    "    recommender = ComprehensiveMovieRecommender(ratings_df)\n",
    "    \n",
    "    # Get top 3 global recommendations for a user\n",
    "    user_id = 1\n",
    "    global_recommendations = recommender.get_global_hybrid_recommendations(user_id)\n",
    "    print(f\"Global Recommendations for User {user_id}: {global_recommendations}\")\n",
    "\n",
    "if __name__ == \"__main__\":\n",
    "    main()"
   ]
  }
 ],
 "metadata": {
  "kernelspec": {
   "display_name": "Python 3",
   "language": "python",
   "name": "python3"
  },
  "language_info": {
   "codemirror_mode": {
    "name": "ipython",
    "version": 3
   },
   "file_extension": ".py",
   "mimetype": "text/x-python",
   "name": "python",
   "nbconvert_exporter": "python",
   "pygments_lexer": "ipython3",
   "version": "3.12.7"
  }
 },
 "nbformat": 4,
 "nbformat_minor": 2
}
